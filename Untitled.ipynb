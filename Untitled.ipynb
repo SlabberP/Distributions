{
 "cells": [
  {
   "cell_type": "markdown",
   "id": "21ac9058-8fc0-4ad0-b999-c42003179eb2",
   "metadata": {},
   "source": [
    "##  **Project 3 - Part 3 (Core)**\n",
    "The project assignment is at the beginning of this week because you already have all of the background to complete project part 3 based on the first two weeks of the course!\n",
    "\n",
    "Business Problem\n",
    "For this project, you have been hired to produce a MySQL database on Movies from a subset of IMDB's publicly available dataset. Ultimately, you will use this database to analyze what makes a movie successful, and will provide recommendations to the stakeholder on how to make a successful movie.\n",
    "Over the course of this project, you will:\n",
    "\n",
    "Part 1: Download several files from IMDB’s movie data set and filter out the subset of moves requested by the stakeholder.\n",
    "Part 2: Use an API to extract box office revenue and profit data to add to your IMDB data and perform exploratory data analysis.\n",
    "Part 3: Construct and export a MySQL database using your data.\n",
    "Part 4: Apply hypothesis testing to explore what makes a movie successful.\n",
    "Part 5 (Optional): Produce a Linear Regression model to predict movie performance."
   ]
  },
  {
   "cell_type": "code",
   "execution_count": null,
   "id": "6c87d9cb-7830-4fb1-88ca-cfd8bf16415e",
   "metadata": {},
   "outputs": [],
   "source": [
    "## Standard Imports\n",
    "import numpy as np\n",
    "import pandas as pd\n",
    "import matplotlib.pyplot as plt\n",
    "import seaborn as sns\n",
    "\n",
    "## Importing the OS and JSON Modules\n",
    "import os,json\n",
    "import pymysql\n",
    "pymysql.install_as_MySQLdb()\n",
    "from sqlalchemy import create_engine\n",
    "from sqlalchemy_utils import create_database, database_exists\n",
    "from sqlalchemy import create_engine, MetaData\n",
    "from sqlalchemy import String, Integer, Float, Text\n",
    "from sqlalchemy import Column, Integer, String, Float, Text, ForeignKey , ARRAY, BOOLEAN , INTEGER\n",
    "from sqlalchemy.ext.declarative import declarative_base"
   ]
  }
 ],
 "metadata": {
  "kernelspec": {
   "display_name": "Python 3 (ipykernel)",
   "language": "python",
   "name": "python3"
  },
  "language_info": {
   "codemirror_mode": {
    "name": "ipython",
    "version": 3
   },
   "file_extension": ".py",
   "mimetype": "text/x-python",
   "name": "python",
   "nbconvert_exporter": "python",
   "pygments_lexer": "ipython3",
   "version": "3.10.10"
  },
  "widgets": {
   "application/vnd.jupyter.widget-state+json": {
    "state": {},
    "version_major": 2,
    "version_minor": 0
   }
  }
 },
 "nbformat": 4,
 "nbformat_minor": 5
}
